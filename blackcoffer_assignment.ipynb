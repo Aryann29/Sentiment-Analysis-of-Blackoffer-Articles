{
  "nbformat": 4,
  "nbformat_minor": 0,
  "metadata": {
    "colab": {
      "provenance": [],
      "mount_file_id": "1YguVsojlHyT6P-EOXw8AqIY-Eyag0BV9",
      "authorship_tag": "ABX9TyONR6ZbxddgKSkCskoKkI9E",
      "include_colab_link": true
    },
    "kernelspec": {
      "name": "python3",
      "display_name": "Python 3"
    },
    "language_info": {
      "name": "python"
    },
    "gpuClass": "standard"
  },
  "cells": [
    {
      "cell_type": "markdown",
      "metadata": {
        "id": "view-in-github",
        "colab_type": "text"
      },
      "source": [
        "<a href=\"https://colab.research.google.com/github/Aryann29/Sentiment-Analysis-of-Blackoffer-Articles/blob/main/blackcoffer_assignment.ipynb\" target=\"_parent\"><img src=\"https://colab.research.google.com/assets/colab-badge.svg\" alt=\"Open In Colab\"/></a>"
      ]
    },
    {
      "cell_type": "code",
      "source": [
        "from google.colab import drive\n",
        "drive.mount('/content/drive')"
      ],
      "metadata": {
        "colab": {
          "base_uri": "https://localhost:8080/"
        },
        "id": "9pXwjVxN0O8x",
        "outputId": "cc5ead33-5e50-4522-e74b-229249fec1bf"
      },
      "execution_count": 2,
      "outputs": [
        {
          "output_type": "stream",
          "name": "stdout",
          "text": [
            "Drive already mounted at /content/drive; to attempt to forcibly remount, call drive.mount(\"/content/drive\", force_remount=True).\n"
          ]
        }
      ]
    },
    {
      "cell_type": "code",
      "execution_count": 36,
      "metadata": {
        "colab": {
          "base_uri": "https://localhost:8080/"
        },
        "id": "H50U1dperXhi",
        "outputId": "ecfa84e4-da0b-4bd5-8672-b243a1c7a1c1"
      },
      "outputs": [
        {
          "output_type": "stream",
          "name": "stderr",
          "text": [
            "[nltk_data] Downloading package stopwords to /root/nltk_data...\n",
            "[nltk_data]   Package stopwords is already up-to-date!\n"
          ]
        },
        {
          "output_type": "execute_result",
          "data": {
            "text/plain": [
              "True"
            ]
          },
          "metadata": {},
          "execution_count": 36
        }
      ],
      "source": [
        "import pandas as pd\n",
        "import requests\n",
        "import os\n",
        "from bs4 import BeautifulSoup\n",
        "import nltk\n",
        "import string\n",
        "nltk.download('stopwords')\n"
      ]
    },
    {
      "cell_type": "code",
      "source": [
        "df = pd.read_excel('/content/Input.xlsx')  \n",
        "\n",
        "if not os.path.exists('extracted_text'):\n",
        "  os.makedirs('extracted_text')\n",
        "\n",
        "for index, row in df.iterrows():\n",
        "   response = requests.get(row['URL'])\n",
        "   html_content = response.content \n",
        "   def cont_str(j):\n",
        "      post_content = \"\"\n",
        "      for text in j:\n",
        "        a =text.get_text()\n",
        "        post_content += a\n",
        "      return post_content\n",
        "\n",
        "    \n",
        "\n",
        "   soup = BeautifulSoup(html_content, 'html.parser')\n",
        "   article_title = soup.find('h1', {'class' :'entry-title'})\n",
        "   if article_title is not None:\n",
        "     article_head = article_title.text\n",
        "      # = article_title_text\n",
        "    #  .translate(str.maketrans('', '', string.punctuation))\n",
        "   else:\n",
        "      article_title_text = ''\n",
        "\n",
        "     \n",
        "\n",
        "   article_text_element = soup.find(attrs={'class' :'td-post-content'})\n",
        "   if article_text_element is not None:\n",
        "    article_text = cont_str(article_text_element.find_all('p')[1:])\n",
        "    article_content = article_text\n",
        "   else:\n",
        "     print(index ,row['URL_ID'])\n",
        "     continue\n",
        "     \n",
        "\n",
        "  \n",
        "  \n",
        " \n",
        "   file_path = os.path.join('extracted_text', f\"{row['URL_ID']}.txt\")\n",
        "   \n",
        "   with open(file_path, 'w') as file:\n",
        "    file.write(article_head + '\\n\\n' + article_content)"
      ],
      "metadata": {
        "id": "oqg4_uOmrcNR",
        "colab": {
          "base_uri": "https://localhost:8080/"
        },
        "outputId": "98c18585-3fb7-47b6-973e-d64342a0278e"
      },
      "execution_count": 37,
      "outputs": [
        {
          "output_type": "stream",
          "name": "stdout",
          "text": [
            "7 44.0\n",
            "20 57.0\n",
            "107 144.0\n"
          ]
        }
      ]
    },
    {
      "cell_type": "code",
      "source": [
        "f = open(\"/content/extracted_text/37.0.txt\").read()\n",
        "len(f)"
      ],
      "metadata": {
        "id": "QI1VZhJjvBq8",
        "colab": {
          "base_uri": "https://localhost:8080/"
        },
        "outputId": "9b73b8e4-5ab3-4df8-e506-cdf704bf9e9e"
      },
      "execution_count": 38,
      "outputs": [
        {
          "output_type": "execute_result",
          "data": {
            "text/plain": [
              "12059"
            ]
          },
          "metadata": {},
          "execution_count": 38
        }
      ]
    },
    {
      "cell_type": "code",
      "source": [
        "import nltk\n",
        "nltk.download('punkt')\n",
        "from nltk.corpus import stopwords\n",
        "from nltk.tokenize import word_tokenize"
      ],
      "metadata": {
        "colab": {
          "base_uri": "https://localhost:8080/"
        },
        "id": "AUeiLBFOvScy",
        "outputId": "a6b5ca35-8728-4bd4-82b6-964dc7b078ea"
      },
      "execution_count": 39,
      "outputs": [
        {
          "output_type": "stream",
          "name": "stderr",
          "text": [
            "[nltk_data] Downloading package punkt to /root/nltk_data...\n",
            "[nltk_data]   Package punkt is already up-to-date!\n"
          ]
        }
      ]
    },
    {
      "cell_type": "code",
      "source": [
        "def rempunc(d):\n",
        "     punctuations = '''!()-[]{};:'\"\\,<>./?@#$%^&*_~•“”'''\n",
        "     no_punct = \" \"\n",
        "     for char in d:\n",
        "       if char not in punctuations:\n",
        "         no_punct = no_punct + char.lower()\n",
        "     return no_punct "
      ],
      "metadata": {
        "id": "6piSTf2un8IU"
      },
      "execution_count": 40,
      "outputs": []
    },
    {
      "cell_type": "markdown",
      "source": [
        "STOPWORDS"
      ],
      "metadata": {
        "id": "pSLo8Fsrt5IH"
      }
    },
    {
      "cell_type": "code",
      "source": [
        "stopwords = set(stopwords.words('english'))"
      ],
      "metadata": {
        "id": "GgAvcGDBwCw4"
      },
      "execution_count": 41,
      "outputs": []
    },
    {
      "cell_type": "code",
      "source": [
        "os.chdir('/content/drive/MyDrive/assignment/StopWords/StopWords')\n"
      ],
      "metadata": {
        "id": "5RFZ396-0nQa"
      },
      "execution_count": 42,
      "outputs": []
    },
    {
      "cell_type": "code",
      "source": [
        "stop_words = []\n",
        "for file_name in os.listdir():\n",
        "    if file_name.endswith('.txt'):\n",
        "        with open(file_name, 'r',encoding='ISO-8859-1') as f:\n",
        "            stop_words.extend(f.read().splitlines())"
      ],
      "metadata": {
        "id": "QhSjiswm1rxQ"
      },
      "execution_count": 43,
      "outputs": []
    },
    {
      "cell_type": "code",
      "source": [
        "# print(stop_words)"
      ],
      "metadata": {
        "id": "7vnjt3wM2XSx"
      },
      "execution_count": 44,
      "outputs": []
    },
    {
      "cell_type": "code",
      "source": [
        "stop_words.extend(stopwords)\n",
        "# len(stop_words)\n"
      ],
      "metadata": {
        "id": "HlZShR5L2cqd"
      },
      "execution_count": 45,
      "outputs": []
    },
    {
      "cell_type": "code",
      "source": [
        "text_dir = \"/content/extracted_text/\""
      ],
      "metadata": {
        "id": "SsLPPiqls1RQ"
      },
      "execution_count": 46,
      "outputs": []
    },
    {
      "cell_type": "code",
      "source": [
        "texts_inside_txt = []\n",
        " # print(os.path.join(text_dir,text_file))\n",
        "for text_file in os.listdir(text_dir):\n",
        " \n",
        "  with open(os.path.join(text_dir,text_file),'r') as f:  \n",
        "    raw_t = rempunc(f.read().translate(str.maketrans('', '', string.punctuation)))\n",
        "    \n",
        "    text = raw_t.lower()\n",
        "\n",
        "\n",
        "  \n",
        "  word_tokens = word_tokenize(text)\n",
        "  # print(len(text))\n",
        "\n",
        "  filtered_sentence = [w for w in word_tokens if not w.lower() in stop_words]\n",
        "\n",
        "  filtered_sentence = []\n",
        "  \n",
        "  for w in word_tokens:\n",
        "    if w not in stop_words:\n",
        "      filtered_sentence.append(w)\n",
        "\n",
        "  texts_inside_txt.append(filtered_sentence)\n"
      ],
      "metadata": {
        "id": "Na1doBR2oyAD"
      },
      "execution_count": 47,
      "outputs": []
    },
    {
      "cell_type": "code",
      "source": [
        "\n",
        "master_d = '/content/drive/MyDrive/assignment/MasterDictionary/MasterDictionary'"
      ],
      "metadata": {
        "id": "Xlqh0jT2BOBC"
      },
      "execution_count": 48,
      "outputs": []
    },
    {
      "cell_type": "code",
      "source": [
        "os.listdir(master_d)"
      ],
      "metadata": {
        "colab": {
          "base_uri": "https://localhost:8080/"
        },
        "id": "3ty_5BDetfmT",
        "outputId": "8287577c-726b-4b51-a519-810d318651c6"
      },
      "execution_count": 49,
      "outputs": [
        {
          "output_type": "execute_result",
          "data": {
            "text/plain": [
              "['negative-words.txt', 'positive-words.txt']"
            ]
          },
          "metadata": {},
          "execution_count": 49
        }
      ]
    },
    {
      "cell_type": "code",
      "source": [
        "positive_w = []\n",
        "negative_w = []\n",
        "for file_name in os.listdir(master_d):\n",
        "\n",
        "    if file_name == 'positive-words.txt':\n",
        "      with open(os.path.join(master_d,file_name), 'r',encoding='ISO-8859-1') as f:\n",
        "         pos_word =f.read().splitlines()    \n",
        "         positive_w.extend(pos_word)\n",
        "        #  print(positive_w)\n",
        "\n",
        "    else:\n",
        "      with open(os.path.join(master_d,file_name), 'r',encoding='ISO-8859-1') as f:\n",
        "         neg_word =f.read().splitlines()    \n",
        "         negative_w.extend(neg_word)\n",
        "        #  print(negative_w)\n"
      ],
      "metadata": {
        "id": "NTgsYgYiFKwe"
      },
      "execution_count": 50,
      "outputs": []
    },
    {
      "cell_type": "code",
      "source": [
        "positive_words = []\n",
        "Negative_words =[]\n",
        "positive_score = []\n",
        "negative_score = []\n",
        "polarity_score = []\n",
        "subjectivity_score = []\n",
        "\n",
        "#iterate through the list of docs\n",
        "for i in range(len(texts_inside_txt)):\n",
        "  positive_words.append([word for word in texts_inside_txt[i] if word.lower() in positive_w])\n",
        "  Negative_words.append([word for word in texts_inside_txt[i] if word.lower() in negative_w])\n",
        "\n",
        "  positive_score.append(len(positive_words[i]))\n",
        "  negative_score.append(len(Negative_words[i]))\n",
        "  \n",
        "  polarity_score.append((positive_score[i] - negative_score[i]) / ((positive_score[i] + negative_score[i]) + 0.000001))\n",
        "  subjectivity_score.append((positive_score[i] + negative_score[i]) / ((len(texts_inside_txt[i])) + 0.000001))"
      ],
      "metadata": {
        "id": "AivJCKw-tpjZ"
      },
      "execution_count": 51,
      "outputs": []
    },
    {
      "cell_type": "code",
      "source": [
        "avg_sentence_length = []\n",
        "Percentage_of_Complex_words  =  []\n",
        "Fog_Index = []\n",
        "complex_word_count =  []\n",
        "avg_syllable_word_count =[]\n",
        "\n",
        "import re\n",
        "def lenghth(file):\n",
        "  with open(os.path.join(text_dir, file),'r') as f:\n",
        "    text = f.read()\n",
        "\n",
        "    text = re.sub(r'[^\\w\\s.]','',text)\n",
        "\n",
        "    sentences = text.split('.')\n",
        "\n",
        "    num_sentences = len(sentences)\n",
        "\n",
        "    words = [word  for word in text.split() if word.lower() not in stopwords ]\n",
        "    num_words = len(words)\n",
        " \n",
        "\n",
        "    complex_words = []\n",
        "    for word in words:\n",
        "      vowels = 'aeiou'\n",
        "      syllable_count_word = sum( 1 for letter in word if letter.lower() in vowels)\n",
        "      if syllable_count_word > 2:\n",
        "        complex_words.append(word)\n",
        "\n",
        "\n",
        "    syllable_count = 0\n",
        "    syllable_words =[]\n",
        "    for word in words:\n",
        "      if word.endswith('es'):\n",
        "        word = word[:-2]\n",
        "      elif word.endswith('ed'):\n",
        "        word = word[:-2]\n",
        "      vowels = 'aeiou'\n",
        "      syllable_count_word = sum( 1 for letter in word if letter.lower() in vowels)\n",
        "      if syllable_count_word >= 1:\n",
        "        syllable_words.append(word)\n",
        "        syllable_count += syllable_count_word\n",
        "\n",
        "\n",
        "    avg_sentence_len = num_words / num_sentences\n",
        "    avg_syllable_word_count = syllable_count / len(syllable_words)\n",
        "    Percent_Complex_words  =  len(complex_words) / num_words\n",
        "    Fog_Index = 0.4 * (avg_sentence_len + Percent_Complex_words)\n",
        "\n",
        "    return avg_sentence_len, Percent_Complex_words, Fog_Index, len(complex_words),avg_syllable_word_count\n",
        "\n",
        "\n",
        "for file in os.listdir(text_dir):\n",
        "  x,y,z,a,b = lenghth(file)\n",
        "  avg_sentence_length.append(x)\n",
        "  Percentage_of_Complex_words.append(y)\n",
        "  Fog_Index.append(z)\n",
        "  complex_word_count.append(a)\n",
        "  avg_syllable_word_count.append(b)"
      ],
      "metadata": {
        "id": "TWy9KEBjHtCs"
      },
      "execution_count": 52,
      "outputs": []
    },
    {
      "cell_type": "code",
      "source": [
        "def cleaned_words(file):\n",
        "  with open(os.path.join(text_dir,file), 'r') as f:\n",
        "    text = f.read()\n",
        "    text = re.sub(r'[^\\w\\s]', '' , text)\n",
        "    words = [word  for word in text.split() if word.lower() not in stopwords]\n",
        "    length = sum(len(word) for word in words)\n",
        "    average_word_length = length / len(words)\n",
        "  return len(words),average_word_length\n"
      ],
      "metadata": {
        "id": "OonMblfYZxRd"
      },
      "execution_count": 53,
      "outputs": []
    },
    {
      "cell_type": "code",
      "source": [
        "word_count = []\n",
        "average_word_length = []\n",
        "for file in os.listdir(text_dir):\n",
        "  x, y = cleaned_words(file)\n",
        "  word_count.append(x)\n",
        "  average_word_length.append(y)\n"
      ],
      "metadata": {
        "id": "6IhnUo-MZy3Q"
      },
      "execution_count": 54,
      "outputs": []
    },
    {
      "cell_type": "code",
      "source": [
        "def count_personal_pronouns(file):\n",
        "  with open(os.path.join(text_dir,file), 'r') as f:\n",
        "    text = f.read()\n",
        "    personal_pronouns = [\"I\", \"we\", \"my\", \"ours\", \"us\"]\n",
        "    count = 0\n",
        "    for pronoun in personal_pronouns:\n",
        "      count += len(re.findall(r\"\\b\" + pronoun + r\"\\b\", text)) # \\b is used to match word boundaries\n",
        "  return count\n",
        "\n",
        "pp_count = []\n",
        "for file in os.listdir(text_dir):\n",
        "  x = count_personal_pronouns(file)\n",
        "  pp_count.append(x)\n",
        "     "
      ],
      "metadata": {
        "id": "JhHzwyavM_yW"
      },
      "execution_count": 55,
      "outputs": []
    },
    {
      "cell_type": "code",
      "source": [
        "output_df = pd.read_excel('/content/OutputDataStructure.xlsx')\n",
        "\n",
        "\n",
        "output_df.drop([44-37,57-37,144-37], axis = 0, inplace=True)\n",
        "\n",
        "\n",
        "columns = [positive_score,\n",
        "            negative_score,\n",
        "            polarity_score,\n",
        "            subjectivity_score,\n",
        "            avg_sentence_length,\n",
        "            Percentage_of_Complex_words,\n",
        "            Fog_Index,\n",
        "            avg_sentence_length,\n",
        "            complex_word_count,\n",
        "            word_count,\n",
        "            avg_syllable_word_count,\n",
        "            pp_count,\n",
        "            average_word_length]\n",
        "\n",
        "\n",
        "for i, p in enumerate(columns):\n",
        "  output_df.iloc[:,i+2] = p\n",
        "\n"
      ],
      "metadata": {
        "id": "WaxJGD0W72hL"
      },
      "execution_count": 56,
      "outputs": []
    },
    {
      "cell_type": "code",
      "source": [
        "output_df.to_csv('/content/Output_Data.csv')"
      ],
      "metadata": {
        "id": "yMDJGYamWLP4"
      },
      "execution_count": 57,
      "outputs": []
    },
    {
      "cell_type": "code",
      "source": [
        "# output_df.groupby(output_df['POSITIVE SCORE'] > output_df['NEGATIVE SCORE']).get_group(True)"
      ],
      "metadata": {
        "id": "zxIqEWqiA68F"
      },
      "execution_count": 58,
      "outputs": []
    },
    {
      "cell_type": "code",
      "source": [
        "# output_df.head(20)"
      ],
      "metadata": {
        "id": "Sye7wvDrQCM-"
      },
      "execution_count": 59,
      "outputs": []
    },
    {
      "cell_type": "code",
      "source": [],
      "metadata": {
        "id": "_mdKhAwjQEIA"
      },
      "execution_count": 59,
      "outputs": []
    }
  ]
}